{
 "cells": [
  {
   "cell_type": "code",
   "execution_count": null,
   "id": "945b1edd-bfec-4c59-a22a-337d075377f6",
   "metadata": {},
   "outputs": [],
   "source": []
  },
  {
   "cell_type": "code",
   "execution_count": 5,
   "id": "d4b2acf0-3cec-451a-927c-e19aa4d4ee0a",
   "metadata": {},
   "outputs": [],
   "source": [
    "import pandas as pd\n",
    "from sklearn.linear_model import LinearRegression\n",
    "from sklearn.model_selection import train_test_split"
   ]
  },
  {
   "cell_type": "code",
   "execution_count": 9,
   "id": "5f2e343e-48ec-4514-95cc-12293cc3afae",
   "metadata": {},
   "outputs": [],
   "source": [
    "#df=pd.read_csv(\"Movie_rating_Prediction_dataset.csv\")\n",
    "with open('Movie_rating_Prediction_dataset.csv', 'r', encoding='utf-8', errors='ignore') as file:\n",
    "    content = file.read()"
   ]
  },
  {
   "cell_type": "code",
   "execution_count": null,
   "id": "3d399e60-5517-4797-8cd6-1ed07d429015",
   "metadata": {},
   "outputs": [],
   "source": []
  },
  {
   "cell_type": "code",
   "execution_count": null,
   "id": "6c5524fb-727e-4d04-ba5a-194c45711254",
   "metadata": {},
   "outputs": [],
   "source": []
  }
 ],
 "metadata": {
  "kernelspec": {
   "display_name": "Python 3 (ipykernel)",
   "language": "python",
   "name": "python3"
  },
  "language_info": {
   "codemirror_mode": {
    "name": "ipython",
    "version": 3
   },
   "file_extension": ".py",
   "mimetype": "text/x-python",
   "name": "python",
   "nbconvert_exporter": "python",
   "pygments_lexer": "ipython3",
   "version": "3.12.3"
  }
 },
 "nbformat": 4,
 "nbformat_minor": 5
}
